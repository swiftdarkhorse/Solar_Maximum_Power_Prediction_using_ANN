{
  "nbformat": 4,
  "nbformat_minor": 0,
  "metadata": {
    "colab": {
      "name": "BE_Project.ipynb",
      "provenance": [],
      "collapsed_sections": []
    },
    "kernelspec": {
      "name": "python3",
      "display_name": "Python 3"
    }
  },
  "cells": [
    {
      "cell_type": "markdown",
      "metadata": {
        "id": "G0fpmHEps7om",
        "colab_type": "text"
      },
      "source": [
        "Installing Required Libraries for Extracting, Transforming and Loading of Dataset. Also, for building and training the Model"
      ]
    },
    {
      "cell_type": "code",
      "metadata": {
        "id": "8_JFQXwPZ5J4",
        "colab_type": "code",
        "outputId": "0b49e930-535d-4e63-d774-e7aa91402e5a",
        "colab": {
          "base_uri": "https://localhost:8080/",
          "height": 34
        }
      },
      "source": [
        "import pandas as pd\n",
        "import tensorflow as tf\n",
        "import csv\n",
        "import numpy as np\n",
        "import keras\n",
        "import matplotlib.pyplot as plt\n",
        "from sklearn.model_selection import train_test_split"
      ],
      "execution_count": 0,
      "outputs": [
        {
          "output_type": "stream",
          "text": [
            "Using TensorFlow backend.\n"
          ],
          "name": "stderr"
        }
      ]
    },
    {
      "cell_type": "markdown",
      "metadata": {
        "id": "zP4Yhr_UtU3Y",
        "colab_type": "text"
      },
      "source": [
        "Importing a CSV File as a Pandas Dataframe"
      ]
    },
    {
      "cell_type": "code",
      "metadata": {
        "id": "8WvfK896uUla",
        "colab_type": "code",
        "colab": {}
      },
      "source": [
        "df = pd.read_csv(\"/content/drive/My Drive/Colab Notebooks/solar_data.csv\")"
      ],
      "execution_count": 0,
      "outputs": []
    },
    {
      "cell_type": "markdown",
      "metadata": {
        "id": "56BVZUPztgP6",
        "colab_type": "text"
      },
      "source": [
        "Displaying first five entries of the Dataset"
      ]
    },
    {
      "cell_type": "code",
      "metadata": {
        "id": "aWG0oM2mursB",
        "colab_type": "code",
        "outputId": "f99b3dd7-a37f-4ba6-82d8-5b7108dcba00",
        "colab": {
          "base_uri": "https://localhost:8080/",
          "height": 195
        }
      },
      "source": [
        "df.head()"
      ],
      "execution_count": 0,
      "outputs": [
        {
          "output_type": "execute_result",
          "data": {
            "text/html": [
              "<div>\n",
              "<style scoped>\n",
              "    .dataframe tbody tr th:only-of-type {\n",
              "        vertical-align: middle;\n",
              "    }\n",
              "\n",
              "    .dataframe tbody tr th {\n",
              "        vertical-align: top;\n",
              "    }\n",
              "\n",
              "    .dataframe thead th {\n",
              "        text-align: right;\n",
              "    }\n",
              "</style>\n",
              "<table border=\"1\" class=\"dataframe\">\n",
              "  <thead>\n",
              "    <tr style=\"text-align: right;\">\n",
              "      <th></th>\n",
              "      <th>Temperature</th>\n",
              "      <th>Humidity</th>\n",
              "      <th>Voltage</th>\n",
              "      <th>Current</th>\n",
              "      <th>Irradiance</th>\n",
              "      <th>Power</th>\n",
              "    </tr>\n",
              "  </thead>\n",
              "  <tbody>\n",
              "    <tr>\n",
              "      <th>0</th>\n",
              "      <td>27.195719</td>\n",
              "      <td>66.0</td>\n",
              "      <td>21.282369</td>\n",
              "      <td>0.5</td>\n",
              "      <td>361.544259</td>\n",
              "      <td>10.641180</td>\n",
              "    </tr>\n",
              "    <tr>\n",
              "      <th>1</th>\n",
              "      <td>27.757916</td>\n",
              "      <td>67.0</td>\n",
              "      <td>16.631721</td>\n",
              "      <td>0.5</td>\n",
              "      <td>274.344744</td>\n",
              "      <td>8.315860</td>\n",
              "    </tr>\n",
              "    <tr>\n",
              "      <th>2</th>\n",
              "      <td>27.208126</td>\n",
              "      <td>72.0</td>\n",
              "      <td>16.507953</td>\n",
              "      <td>0.5</td>\n",
              "      <td>272.024102</td>\n",
              "      <td>8.253976</td>\n",
              "    </tr>\n",
              "    <tr>\n",
              "      <th>3</th>\n",
              "      <td>27.654181</td>\n",
              "      <td>77.0</td>\n",
              "      <td>18.733525</td>\n",
              "      <td>0.5</td>\n",
              "      <td>313.753533</td>\n",
              "      <td>9.366761</td>\n",
              "    </tr>\n",
              "    <tr>\n",
              "      <th>4</th>\n",
              "      <td>29.356662</td>\n",
              "      <td>71.0</td>\n",
              "      <td>19.942582</td>\n",
              "      <td>0.5</td>\n",
              "      <td>336.423315</td>\n",
              "      <td>9.971288</td>\n",
              "    </tr>\n",
              "  </tbody>\n",
              "</table>\n",
              "</div>"
            ],
            "text/plain": [
              "   Temperature  Humidity    Voltage  Current  Irradiance      Power\n",
              "0    27.195719      66.0  21.282369      0.5  361.544259  10.641180\n",
              "1    27.757916      67.0  16.631721      0.5  274.344744   8.315860\n",
              "2    27.208126      72.0  16.507953      0.5  272.024102   8.253976\n",
              "3    27.654181      77.0  18.733525      0.5  313.753533   9.366761\n",
              "4    29.356662      71.0  19.942582      0.5  336.423315   9.971288"
            ]
          },
          "metadata": {
            "tags": []
          },
          "execution_count": 3
        }
      ]
    },
    {
      "cell_type": "markdown",
      "metadata": {
        "id": "g_toGh45tqsJ",
        "colab_type": "text"
      },
      "source": [
        "Shuffling the data in the Dataset and spliting it into Training set and Test set as specified"
      ]
    },
    {
      "cell_type": "code",
      "metadata": {
        "id": "CH5r5Iiou7yl",
        "colab_type": "code",
        "colab": {}
      },
      "source": [
        "train, test = train_test_split(df, test_size = 0.1)"
      ],
      "execution_count": 0,
      "outputs": []
    },
    {
      "cell_type": "markdown",
      "metadata": {
        "id": "TIx1AsBdt7Q_",
        "colab_type": "text"
      },
      "source": [
        "Displaying first five entries of the Training Dataset"
      ]
    },
    {
      "cell_type": "code",
      "metadata": {
        "id": "53x90QShvgGZ",
        "colab_type": "code",
        "outputId": "67954d26-6140-4291-b0ae-4df6c5d8872d",
        "colab": {
          "base_uri": "https://localhost:8080/",
          "height": 195
        }
      },
      "source": [
        "train.head()"
      ],
      "execution_count": 0,
      "outputs": [
        {
          "output_type": "execute_result",
          "data": {
            "text/html": [
              "<div>\n",
              "<style scoped>\n",
              "    .dataframe tbody tr th:only-of-type {\n",
              "        vertical-align: middle;\n",
              "    }\n",
              "\n",
              "    .dataframe tbody tr th {\n",
              "        vertical-align: top;\n",
              "    }\n",
              "\n",
              "    .dataframe thead th {\n",
              "        text-align: right;\n",
              "    }\n",
              "</style>\n",
              "<table border=\"1\" class=\"dataframe\">\n",
              "  <thead>\n",
              "    <tr style=\"text-align: right;\">\n",
              "      <th></th>\n",
              "      <th>Temperature</th>\n",
              "      <th>Humidity</th>\n",
              "      <th>Voltage</th>\n",
              "      <th>Current</th>\n",
              "      <th>Irradiance</th>\n",
              "      <th>Power</th>\n",
              "    </tr>\n",
              "  </thead>\n",
              "  <tbody>\n",
              "    <tr>\n",
              "      <th>4456</th>\n",
              "      <td>31.513035</td>\n",
              "      <td>72.0</td>\n",
              "      <td>22.760193</td>\n",
              "      <td>0.5</td>\n",
              "      <td>389.253330</td>\n",
              "      <td>11.380089</td>\n",
              "    </tr>\n",
              "    <tr>\n",
              "      <th>193</th>\n",
              "      <td>27.766926</td>\n",
              "      <td>77.0</td>\n",
              "      <td>20.510092</td>\n",
              "      <td>0.5</td>\n",
              "      <td>347.064110</td>\n",
              "      <td>10.255043</td>\n",
              "    </tr>\n",
              "    <tr>\n",
              "      <th>1441</th>\n",
              "      <td>35.921201</td>\n",
              "      <td>73.0</td>\n",
              "      <td>23.676230</td>\n",
              "      <td>0.5</td>\n",
              "      <td>406.428885</td>\n",
              "      <td>11.838104</td>\n",
              "    </tr>\n",
              "    <tr>\n",
              "      <th>4687</th>\n",
              "      <td>34.503689</td>\n",
              "      <td>70.0</td>\n",
              "      <td>19.426503</td>\n",
              "      <td>0.5</td>\n",
              "      <td>326.746861</td>\n",
              "      <td>9.713250</td>\n",
              "    </tr>\n",
              "    <tr>\n",
              "      <th>2531</th>\n",
              "      <td>31.203788</td>\n",
              "      <td>71.0</td>\n",
              "      <td>19.055501</td>\n",
              "      <td>0.5</td>\n",
              "      <td>319.790585</td>\n",
              "      <td>9.527749</td>\n",
              "    </tr>\n",
              "  </tbody>\n",
              "</table>\n",
              "</div>"
            ],
            "text/plain": [
              "      Temperature  Humidity    Voltage  Current  Irradiance      Power\n",
              "4456    31.513035      72.0  22.760193      0.5  389.253330  11.380089\n",
              "193     27.766926      77.0  20.510092      0.5  347.064110  10.255043\n",
              "1441    35.921201      73.0  23.676230      0.5  406.428885  11.838104\n",
              "4687    34.503689      70.0  19.426503      0.5  326.746861   9.713250\n",
              "2531    31.203788      71.0  19.055501      0.5  319.790585   9.527749"
            ]
          },
          "metadata": {
            "tags": []
          },
          "execution_count": 5
        }
      ]
    },
    {
      "cell_type": "markdown",
      "metadata": {
        "id": "cVjXKlEnt_6N",
        "colab_type": "text"
      },
      "source": [
        "Displaying first five entries of the Testing Dataset"
      ]
    },
    {
      "cell_type": "code",
      "metadata": {
        "id": "WnlNNKJ2vliB",
        "colab_type": "code",
        "outputId": "292a74fa-b451-4a12-a8ea-83f0cd088fa7",
        "colab": {
          "base_uri": "https://localhost:8080/",
          "height": 195
        }
      },
      "source": [
        "test.head()"
      ],
      "execution_count": 0,
      "outputs": [
        {
          "output_type": "execute_result",
          "data": {
            "text/html": [
              "<div>\n",
              "<style scoped>\n",
              "    .dataframe tbody tr th:only-of-type {\n",
              "        vertical-align: middle;\n",
              "    }\n",
              "\n",
              "    .dataframe tbody tr th {\n",
              "        vertical-align: top;\n",
              "    }\n",
              "\n",
              "    .dataframe thead th {\n",
              "        text-align: right;\n",
              "    }\n",
              "</style>\n",
              "<table border=\"1\" class=\"dataframe\">\n",
              "  <thead>\n",
              "    <tr style=\"text-align: right;\">\n",
              "      <th></th>\n",
              "      <th>Temperature</th>\n",
              "      <th>Humidity</th>\n",
              "      <th>Voltage</th>\n",
              "      <th>Current</th>\n",
              "      <th>Irradiance</th>\n",
              "      <th>Power</th>\n",
              "    </tr>\n",
              "  </thead>\n",
              "  <tbody>\n",
              "    <tr>\n",
              "      <th>981</th>\n",
              "      <td>31.896380</td>\n",
              "      <td>75.0</td>\n",
              "      <td>24.897630</td>\n",
              "      <td>0.499999</td>\n",
              "      <td>429.329871</td>\n",
              "      <td>12.448797</td>\n",
              "    </tr>\n",
              "    <tr>\n",
              "      <th>1986</th>\n",
              "      <td>27.237622</td>\n",
              "      <td>72.0</td>\n",
              "      <td>23.614884</td>\n",
              "      <td>0.500000</td>\n",
              "      <td>405.278661</td>\n",
              "      <td>11.807431</td>\n",
              "    </tr>\n",
              "    <tr>\n",
              "      <th>682</th>\n",
              "      <td>27.291991</td>\n",
              "      <td>70.0</td>\n",
              "      <td>17.455371</td>\n",
              "      <td>0.500000</td>\n",
              "      <td>289.788180</td>\n",
              "      <td>8.727685</td>\n",
              "    </tr>\n",
              "    <tr>\n",
              "      <th>2712</th>\n",
              "      <td>36.035601</td>\n",
              "      <td>69.0</td>\n",
              "      <td>17.815208</td>\n",
              "      <td>0.500000</td>\n",
              "      <td>296.535112</td>\n",
              "      <td>8.907603</td>\n",
              "    </tr>\n",
              "    <tr>\n",
              "      <th>1792</th>\n",
              "      <td>34.726853</td>\n",
              "      <td>81.0</td>\n",
              "      <td>19.772277</td>\n",
              "      <td>0.500000</td>\n",
              "      <td>333.230100</td>\n",
              "      <td>9.886136</td>\n",
              "    </tr>\n",
              "  </tbody>\n",
              "</table>\n",
              "</div>"
            ],
            "text/plain": [
              "      Temperature  Humidity    Voltage   Current  Irradiance      Power\n",
              "981     31.896380      75.0  24.897630  0.499999  429.329871  12.448797\n",
              "1986    27.237622      72.0  23.614884  0.500000  405.278661  11.807431\n",
              "682     27.291991      70.0  17.455371  0.500000  289.788180   8.727685\n",
              "2712    36.035601      69.0  17.815208  0.500000  296.535112   8.907603\n",
              "1792    34.726853      81.0  19.772277  0.500000  333.230100   9.886136"
            ]
          },
          "metadata": {
            "tags": []
          },
          "execution_count": 6
        }
      ]
    },
    {
      "cell_type": "markdown",
      "metadata": {
        "id": "Z2Uh4LlNuGQV",
        "colab_type": "text"
      },
      "source": [
        "Seperating Inputs and Labels from the Training and Testing Data by converting Pandas Dataframe into Numpy Arrays"
      ]
    },
    {
      "cell_type": "code",
      "metadata": {
        "id": "yiUXZ2F2vqLv",
        "colab_type": "code",
        "colab": {}
      },
      "source": [
        "train = np.array(train)\n",
        "test = np.array(test)\n",
        "x_train = np.delete(train, 5, axis = 1)\n",
        "y_train = train[:,5]\n",
        "x_test = np.delete(test, 5, axis = 1)\n",
        "y_test = test[:,5]"
      ],
      "execution_count": 0,
      "outputs": []
    },
    {
      "cell_type": "markdown",
      "metadata": {
        "id": "GYmPG0RduQu5",
        "colab_type": "text"
      },
      "source": [
        "Converting Numpy arrays into Tensors"
      ]
    },
    {
      "cell_type": "code",
      "metadata": {
        "id": "OtJoL_ymxFvb",
        "colab_type": "code",
        "colab": {}
      },
      "source": [
        "x_train = x_train.astype(float)\n",
        "y_train = y_train.astype(float)\n",
        "x_train = tf.convert_to_tensor(x_train)\n",
        "y_train = tf.convert_to_tensor(y_train)"
      ],
      "execution_count": 0,
      "outputs": []
    },
    {
      "cell_type": "markdown",
      "metadata": {
        "id": "6cJkx6W9ug8B",
        "colab_type": "text"
      },
      "source": [
        "Building Model with 5 input, 4 hidden and 1 output layer."
      ]
    },
    {
      "cell_type": "code",
      "metadata": {
        "id": "pLHuwwUUxbpi",
        "colab_type": "code",
        "colab": {}
      },
      "source": [
        "model = tf.keras.models.Sequential([\n",
        "                                    tf.keras.layers.Dense(units = 4, input_shape = [5]),\n",
        "                                    tf.keras.layers.Dense(units = 1)\n",
        "                                   ])"
      ],
      "execution_count": 0,
      "outputs": []
    },
    {
      "cell_type": "markdown",
      "metadata": {
        "id": "zEBnFs64vRgh",
        "colab_type": "text"
      },
      "source": [
        "Displaying the structure of the Neural Model"
      ]
    },
    {
      "cell_type": "code",
      "metadata": {
        "id": "9ApM61hVD55b",
        "colab_type": "code",
        "outputId": "a5a4b877-c79b-427f-e720-e8181a51df3d",
        "colab": {
          "base_uri": "https://localhost:8080/",
          "height": 218
        }
      },
      "source": [
        "model.summary()"
      ],
      "execution_count": 0,
      "outputs": [
        {
          "output_type": "stream",
          "text": [
            "Model: \"sequential\"\n",
            "_________________________________________________________________\n",
            "Layer (type)                 Output Shape              Param #   \n",
            "=================================================================\n",
            "dense (Dense)                (None, 4)                 24        \n",
            "_________________________________________________________________\n",
            "dense_1 (Dense)              (None, 1)                 5         \n",
            "=================================================================\n",
            "Total params: 29\n",
            "Trainable params: 29\n",
            "Non-trainable params: 0\n",
            "_________________________________________________________________\n"
          ],
          "name": "stdout"
        }
      ]
    },
    {
      "cell_type": "markdown",
      "metadata": {
        "id": "SNynjqeCvZlu",
        "colab_type": "text"
      },
      "source": [
        "Compiling the Model with appropriate Optimizer and Loss Function"
      ]
    },
    {
      "cell_type": "code",
      "metadata": {
        "id": "EbV4V8xOxir_",
        "colab_type": "code",
        "colab": {}
      },
      "source": [
        "model.compile(optimizer='adam',\n",
        "                  loss='mean_squared_error',\n",
        "                  )"
      ],
      "execution_count": 0,
      "outputs": []
    },
    {
      "cell_type": "markdown",
      "metadata": {
        "id": "Vqm0fdPMvja2",
        "colab_type": "text"
      },
      "source": [
        "Training the Model on the Training Data"
      ]
    },
    {
      "cell_type": "code",
      "metadata": {
        "id": "sDT7wrxbxt-N",
        "colab_type": "code",
        "outputId": "1c69af6a-9dca-4a32-ebfd-575bae93294c",
        "colab": {
          "base_uri": "https://localhost:8080/",
          "height": 1000
        }
      },
      "source": [
        "history = model.fit(x_train, y_train, epochs = 100, validation_data=(x_test, y_test))"
      ],
      "execution_count": 0,
      "outputs": [
        {
          "output_type": "stream",
          "text": [
            "Epoch 1/100\n",
            "141/141 [==============================] - 0s 2ms/step - loss: 6990.9932 - val_loss: 378.8918\n",
            "Epoch 2/100\n",
            "141/141 [==============================] - 0s 1ms/step - loss: 288.8671 - val_loss: 290.7594\n",
            "Epoch 3/100\n",
            "141/141 [==============================] - 0s 1ms/step - loss: 265.3039 - val_loss: 272.8586\n",
            "Epoch 4/100\n",
            "141/141 [==============================] - 0s 1ms/step - loss: 247.3807 - val_loss: 252.0204\n",
            "Epoch 5/100\n",
            "141/141 [==============================] - 0s 1ms/step - loss: 227.5963 - val_loss: 230.3520\n",
            "Epoch 6/100\n",
            "141/141 [==============================] - 0s 1ms/step - loss: 206.7512 - val_loss: 207.8629\n",
            "Epoch 7/100\n",
            "141/141 [==============================] - 0s 1ms/step - loss: 185.9090 - val_loss: 185.5994\n",
            "Epoch 8/100\n",
            "141/141 [==============================] - 0s 1ms/step - loss: 164.9316 - val_loss: 163.7668\n",
            "Epoch 9/100\n",
            "141/141 [==============================] - 0s 1ms/step - loss: 144.7621 - val_loss: 142.9308\n",
            "Epoch 10/100\n",
            "141/141 [==============================] - 0s 1ms/step - loss: 125.3298 - val_loss: 122.8121\n",
            "Epoch 11/100\n",
            "141/141 [==============================] - 0s 1ms/step - loss: 107.3803 - val_loss: 104.7665\n",
            "Epoch 12/100\n",
            "141/141 [==============================] - 0s 1ms/step - loss: 90.9220 - val_loss: 87.9503\n",
            "Epoch 13/100\n",
            "141/141 [==============================] - 0s 1ms/step - loss: 75.8942 - val_loss: 73.0529\n",
            "Epoch 14/100\n",
            "141/141 [==============================] - 0s 1ms/step - loss: 62.7197 - val_loss: 59.6830\n",
            "Epoch 15/100\n",
            "141/141 [==============================] - 0s 1ms/step - loss: 50.9750 - val_loss: 48.2591\n",
            "Epoch 16/100\n",
            "141/141 [==============================] - 0s 1ms/step - loss: 40.8556 - val_loss: 38.4227\n",
            "Epoch 17/100\n",
            "141/141 [==============================] - 0s 1ms/step - loss: 32.2580 - val_loss: 30.0006\n",
            "Epoch 18/100\n",
            "141/141 [==============================] - 0s 1ms/step - loss: 25.1571 - val_loss: 23.1661\n",
            "Epoch 19/100\n",
            "141/141 [==============================] - 0s 1ms/step - loss: 19.2052 - val_loss: 17.5303\n",
            "Epoch 20/100\n",
            "141/141 [==============================] - 0s 1ms/step - loss: 14.4934 - val_loss: 13.0734\n",
            "Epoch 21/100\n",
            "141/141 [==============================] - 0s 1ms/step - loss: 10.7550 - val_loss: 9.6374\n",
            "Epoch 22/100\n",
            "141/141 [==============================] - 0s 1ms/step - loss: 7.8336 - val_loss: 7.0152\n",
            "Epoch 23/100\n",
            "141/141 [==============================] - 0s 1ms/step - loss: 5.6452 - val_loss: 4.9491\n",
            "Epoch 24/100\n",
            "141/141 [==============================] - 0s 1ms/step - loss: 4.0233 - val_loss: 3.5057\n",
            "Epoch 25/100\n",
            "141/141 [==============================] - 0s 1ms/step - loss: 2.8527 - val_loss: 2.4713\n",
            "Epoch 26/100\n",
            "141/141 [==============================] - 0s 1ms/step - loss: 2.0437 - val_loss: 1.7626\n",
            "Epoch 27/100\n",
            "141/141 [==============================] - 0s 1ms/step - loss: 1.4849 - val_loss: 1.2912\n",
            "Epoch 28/100\n",
            "141/141 [==============================] - 0s 2ms/step - loss: 1.1086 - val_loss: 0.9834\n",
            "Epoch 29/100\n",
            "141/141 [==============================] - 0s 1ms/step - loss: 0.8637 - val_loss: 0.7643\n",
            "Epoch 30/100\n",
            "141/141 [==============================] - 0s 1ms/step - loss: 0.7016 - val_loss: 0.6330\n",
            "Epoch 31/100\n",
            "141/141 [==============================] - 0s 1ms/step - loss: 0.5959 - val_loss: 0.5413\n",
            "Epoch 32/100\n",
            "141/141 [==============================] - 0s 1ms/step - loss: 0.5186 - val_loss: 0.4851\n",
            "Epoch 33/100\n",
            "141/141 [==============================] - 0s 1ms/step - loss: 0.4654 - val_loss: 0.4280\n",
            "Epoch 34/100\n",
            "141/141 [==============================] - 0s 1ms/step - loss: 0.4171 - val_loss: 0.3920\n",
            "Epoch 35/100\n",
            "141/141 [==============================] - 0s 1ms/step - loss: 0.3788 - val_loss: 0.3498\n",
            "Epoch 36/100\n",
            "141/141 [==============================] - 0s 1ms/step - loss: 0.3439 - val_loss: 0.3158\n",
            "Epoch 37/100\n",
            "141/141 [==============================] - 0s 1ms/step - loss: 0.3093 - val_loss: 0.2833\n",
            "Epoch 38/100\n",
            "141/141 [==============================] - 0s 1ms/step - loss: 0.2752 - val_loss: 0.2524\n",
            "Epoch 39/100\n",
            "141/141 [==============================] - 0s 1ms/step - loss: 0.2463 - val_loss: 0.2241\n",
            "Epoch 40/100\n",
            "141/141 [==============================] - 0s 1ms/step - loss: 0.2175 - val_loss: 0.2001\n",
            "Epoch 41/100\n",
            "141/141 [==============================] - 0s 1ms/step - loss: 0.1887 - val_loss: 0.1784\n",
            "Epoch 42/100\n",
            "141/141 [==============================] - 0s 1ms/step - loss: 0.1633 - val_loss: 0.1510\n",
            "Epoch 43/100\n",
            "141/141 [==============================] - 0s 1ms/step - loss: 0.1388 - val_loss: 0.1237\n",
            "Epoch 44/100\n",
            "141/141 [==============================] - 0s 1ms/step - loss: 0.1181 - val_loss: 0.1037\n",
            "Epoch 45/100\n",
            "141/141 [==============================] - 0s 1ms/step - loss: 0.0992 - val_loss: 0.0858\n",
            "Epoch 46/100\n",
            "141/141 [==============================] - 0s 1ms/step - loss: 0.0801 - val_loss: 0.0751\n",
            "Epoch 47/100\n",
            "141/141 [==============================] - 0s 1ms/step - loss: 0.0657 - val_loss: 0.0586\n",
            "Epoch 48/100\n",
            "141/141 [==============================] - 0s 1ms/step - loss: 0.0525 - val_loss: 0.0489\n",
            "Epoch 49/100\n",
            "141/141 [==============================] - 0s 1ms/step - loss: 0.0417 - val_loss: 0.0348\n",
            "Epoch 50/100\n",
            "141/141 [==============================] - 0s 1ms/step - loss: 0.0314 - val_loss: 0.0273\n",
            "Epoch 51/100\n",
            "141/141 [==============================] - 0s 1ms/step - loss: 0.0240 - val_loss: 0.0198\n",
            "Epoch 52/100\n",
            "141/141 [==============================] - 0s 1ms/step - loss: 0.0178 - val_loss: 0.0145\n",
            "Epoch 53/100\n",
            "141/141 [==============================] - 0s 1ms/step - loss: 0.0132 - val_loss: 0.0106\n",
            "Epoch 54/100\n",
            "141/141 [==============================] - 0s 1ms/step - loss: 0.0093 - val_loss: 0.0072\n",
            "Epoch 55/100\n",
            "141/141 [==============================] - 0s 1ms/step - loss: 0.0064 - val_loss: 0.0053\n",
            "Epoch 56/100\n",
            "141/141 [==============================] - 0s 1ms/step - loss: 0.0043 - val_loss: 0.0037\n",
            "Epoch 57/100\n",
            "141/141 [==============================] - 0s 1ms/step - loss: 0.0029 - val_loss: 0.0021\n",
            "Epoch 58/100\n",
            "141/141 [==============================] - 0s 1ms/step - loss: 0.0018 - val_loss: 0.0013\n",
            "Epoch 59/100\n",
            "141/141 [==============================] - 0s 1ms/step - loss: 0.0011 - val_loss: 8.2503e-04\n",
            "Epoch 60/100\n",
            "141/141 [==============================] - 0s 1ms/step - loss: 7.1372e-04 - val_loss: 5.7684e-04\n",
            "Epoch 61/100\n",
            "141/141 [==============================] - 0s 1ms/step - loss: 4.2519e-04 - val_loss: 2.9605e-04\n",
            "Epoch 62/100\n",
            "141/141 [==============================] - 0s 1ms/step - loss: 2.7415e-04 - val_loss: 2.0006e-04\n",
            "Epoch 63/100\n",
            "141/141 [==============================] - 0s 1ms/step - loss: 1.7592e-04 - val_loss: 1.2519e-04\n",
            "Epoch 64/100\n",
            "141/141 [==============================] - 0s 1ms/step - loss: 1.2223e-04 - val_loss: 9.2604e-05\n",
            "Epoch 65/100\n",
            "141/141 [==============================] - 0s 1ms/step - loss: 1.0959e-04 - val_loss: 8.6829e-05\n",
            "Epoch 66/100\n",
            "141/141 [==============================] - 0s 1ms/step - loss: 8.6202e-05 - val_loss: 6.9314e-05\n",
            "Epoch 67/100\n",
            "141/141 [==============================] - 0s 1ms/step - loss: 7.9753e-05 - val_loss: 8.5762e-05\n",
            "Epoch 68/100\n",
            "141/141 [==============================] - 0s 1ms/step - loss: 7.8278e-05 - val_loss: 6.3990e-05\n",
            "Epoch 69/100\n",
            "141/141 [==============================] - 0s 1ms/step - loss: 7.7087e-05 - val_loss: 6.2563e-05\n",
            "Epoch 70/100\n",
            "141/141 [==============================] - 0s 1ms/step - loss: 7.0423e-05 - val_loss: 7.0799e-05\n",
            "Epoch 71/100\n",
            "141/141 [==============================] - 0s 1ms/step - loss: 7.1300e-05 - val_loss: 6.9685e-05\n",
            "Epoch 72/100\n",
            "141/141 [==============================] - 0s 1ms/step - loss: 7.1631e-05 - val_loss: 6.1072e-05\n",
            "Epoch 73/100\n",
            "141/141 [==============================] - 0s 1ms/step - loss: 6.9847e-05 - val_loss: 6.5166e-05\n",
            "Epoch 74/100\n",
            "141/141 [==============================] - 0s 1ms/step - loss: 6.9563e-05 - val_loss: 5.7696e-05\n",
            "Epoch 75/100\n",
            "141/141 [==============================] - 0s 1ms/step - loss: 6.7298e-05 - val_loss: 5.4335e-05\n",
            "Epoch 76/100\n",
            "141/141 [==============================] - 0s 1ms/step - loss: 6.9189e-05 - val_loss: 5.3112e-05\n",
            "Epoch 77/100\n",
            "141/141 [==============================] - 0s 1ms/step - loss: 7.3911e-05 - val_loss: 5.1044e-05\n",
            "Epoch 78/100\n",
            "141/141 [==============================] - 0s 1ms/step - loss: 6.4344e-05 - val_loss: 5.7631e-05\n",
            "Epoch 79/100\n",
            "141/141 [==============================] - 0s 1ms/step - loss: 7.1149e-05 - val_loss: 5.6692e-05\n",
            "Epoch 80/100\n",
            "141/141 [==============================] - 0s 1ms/step - loss: 6.6455e-05 - val_loss: 4.7433e-05\n",
            "Epoch 81/100\n",
            "141/141 [==============================] - 0s 1ms/step - loss: 7.7252e-05 - val_loss: 5.9635e-05\n",
            "Epoch 82/100\n",
            "141/141 [==============================] - 0s 1ms/step - loss: 7.1148e-05 - val_loss: 4.1649e-05\n",
            "Epoch 83/100\n",
            "141/141 [==============================] - 0s 1ms/step - loss: 6.6063e-05 - val_loss: 4.9951e-05\n",
            "Epoch 84/100\n",
            "141/141 [==============================] - 0s 1ms/step - loss: 5.8880e-05 - val_loss: 8.0441e-05\n",
            "Epoch 85/100\n",
            "141/141 [==============================] - 0s 1ms/step - loss: 6.4570e-05 - val_loss: 3.5956e-05\n",
            "Epoch 86/100\n",
            "141/141 [==============================] - 0s 1ms/step - loss: 7.3086e-05 - val_loss: 3.3470e-05\n",
            "Epoch 87/100\n",
            "141/141 [==============================] - 0s 1ms/step - loss: 6.5128e-05 - val_loss: 7.5239e-05\n",
            "Epoch 88/100\n",
            "141/141 [==============================] - 0s 1ms/step - loss: 1.0768e-04 - val_loss: 3.5965e-05\n",
            "Epoch 89/100\n",
            "141/141 [==============================] - 0s 1ms/step - loss: 6.1569e-05 - val_loss: 5.1381e-05\n",
            "Epoch 90/100\n",
            "141/141 [==============================] - 0s 1ms/step - loss: 7.3615e-05 - val_loss: 3.2206e-04\n",
            "Epoch 91/100\n",
            "141/141 [==============================] - 0s 1ms/step - loss: 1.2041e-04 - val_loss: 4.2939e-04\n",
            "Epoch 92/100\n",
            "141/141 [==============================] - 0s 1ms/step - loss: 1.9231e-04 - val_loss: 2.8796e-05\n",
            "Epoch 93/100\n",
            "141/141 [==============================] - 0s 1ms/step - loss: 4.0140e-04 - val_loss: 2.6680e-05\n",
            "Epoch 94/100\n",
            "141/141 [==============================] - 0s 1ms/step - loss: 0.0032 - val_loss: 2.9386e-05\n",
            "Epoch 95/100\n",
            "141/141 [==============================] - 0s 1ms/step - loss: 0.0034 - val_loss: 0.0064\n",
            "Epoch 96/100\n",
            "141/141 [==============================] - 0s 1ms/step - loss: 4.8091e-04 - val_loss: 2.3677e-04\n",
            "Epoch 97/100\n",
            "141/141 [==============================] - 0s 1ms/step - loss: 0.0015 - val_loss: 1.2799e-04\n",
            "Epoch 98/100\n",
            "141/141 [==============================] - 0s 1ms/step - loss: 0.0030 - val_loss: 2.0945e-04\n",
            "Epoch 99/100\n",
            "141/141 [==============================] - 0s 1ms/step - loss: 0.0021 - val_loss: 0.0014\n",
            "Epoch 100/100\n",
            "141/141 [==============================] - 0s 1ms/step - loss: 0.0013 - val_loss: 1.4701e-04\n"
          ],
          "name": "stdout"
        }
      ]
    },
    {
      "cell_type": "markdown",
      "metadata": {
        "id": "cjTEBSWpvwCb",
        "colab_type": "text"
      },
      "source": [
        "Evaluating the Model on the Test Set"
      ]
    },
    {
      "cell_type": "code",
      "metadata": {
        "id": "4gGb7rzOzCJ5",
        "colab_type": "code",
        "outputId": "3577d140-7e21-4f34-b042-0ff5a0a0be27",
        "colab": {
          "base_uri": "https://localhost:8080/",
          "height": 50
        }
      },
      "source": [
        "model.evaluate(x_test,y_test)"
      ],
      "execution_count": 0,
      "outputs": [
        {
          "output_type": "stream",
          "text": [
            "16/16 [==============================] - 0s 1ms/step - loss: 1.4701e-04\n"
          ],
          "name": "stdout"
        },
        {
          "output_type": "execute_result",
          "data": {
            "text/plain": [
              "0.00014700544124934822"
            ]
          },
          "metadata": {
            "tags": []
          },
          "execution_count": 12
        }
      ]
    },
    {
      "cell_type": "markdown",
      "metadata": {
        "id": "J7VzU7U0v2_A",
        "colab_type": "text"
      },
      "source": [
        "Displaying the Training and Validation loss over no. of Epochs"
      ]
    },
    {
      "cell_type": "code",
      "metadata": {
        "id": "Vlm0wBpbDT1n",
        "colab_type": "code",
        "outputId": "41a1d417-1d52-4de3-aa59-49171ff98fb9",
        "colab": {
          "base_uri": "https://localhost:8080/",
          "height": 295
        }
      },
      "source": [
        "plt.plot(history.history['loss'])\n",
        "plt.plot(history.history['val_loss'])\n",
        "plt.title('model loss')\n",
        "plt.ylabel('loss')\n",
        "plt.xlabel('epoch')\n",
        "plt.legend(['train', 'test'], loc='upper left')\n",
        "plt.show()"
      ],
      "execution_count": 0,
      "outputs": [
        {
          "output_type": "display_data",
          "data": {
            "image/png": "[encoded data removed]",
            "text/plain": [
              "<Figure size 432x288 with 1 Axes>"
            ]
          },
          "metadata": {
            "tags": [],
            "needs_background": "light"
          }
        }
      ]
    },
    {
      "cell_type": "markdown",
      "metadata": {
        "id": "baDVNMTswDBx",
        "colab_type": "text"
      },
      "source": [
        "Saving the model as yaml File for reusing"
      ]
    },
    {
      "cell_type": "code",
      "metadata": {
        "id": "des3ynjzmwPU",
        "colab_type": "code",
        "outputId": "2940522b-9a29-4a45-9848-3917ef304cb2",
        "colab": {
          "base_uri": "https://localhost:8080/",
          "height": 34
        }
      },
      "source": [
        "from keras.models import model_from_yaml\n",
        "# serialize model to YAML\n",
        "model_yaml = model.to_yaml()\n",
        "with open(\"model.yaml\", \"w\") as yaml_file:\n",
        "    yaml_file.write(model_yaml)\n",
        "# serialize weights to HDF5\n",
        "model.save_weights(\"model.h5\")\n",
        "model.load_weights(\"model.h5\")\n",
        "model.save(\"model.h5\")\n",
        "print(\"Saved model to disk\")"
      ],
      "execution_count": 0,
      "outputs": [
        {
          "output_type": "stream",
          "text": [
            "Saved model to disk\n"
          ],
          "name": "stdout"
        }
      ]
    },
    {
      "cell_type": "markdown",
      "metadata": {
        "id": "Wwo1GPW6wMWe",
        "colab_type": "text"
      },
      "source": [
        "Converting the saved Model to Tensorflow Lite to be loaded on to a Raspberry Pi"
      ]
    },
    {
      "cell_type": "code",
      "metadata": {
        "id": "kusvMC3yolql",
        "colab_type": "code",
        "outputId": "b0d35a64-c723-420e-884f-d0c58d853828",
        "colab": {
          "base_uri": "https://localhost:8080/",
          "height": 34
        }
      },
      "source": [
        "model_yaml = tf.keras.models.load_model('/content/model.h5')\n",
        "converter = tf.lite.TFLiteConverter.from_keras_model(model_yaml)\n",
        "tflite_model = converter.convert()\n",
        "open(\"converted_model.tflite\", \"wb\").write(tflite_model)"
      ],
      "execution_count": 0,
      "outputs": [
        {
          "output_type": "execute_result",
          "data": {
            "text/plain": [
              "1012"
            ]
          },
          "metadata": {
            "tags": []
          },
          "execution_count": 18
        }
      ]
    }
  ]
}